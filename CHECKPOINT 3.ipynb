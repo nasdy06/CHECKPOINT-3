{
 "cells": [
  {
   "cell_type": "markdown",
   "id": "95512fd5",
   "metadata": {},
   "source": [
    "# Q1\n"
   ]
  },
  {
   "cell_type": "code",
   "execution_count": 7,
   "id": "76051ebd",
   "metadata": {},
   "outputs": [
    {
     "name": "stdout",
     "output_type": "stream",
     "text": [
      "36\n"
     ]
    }
   ],
   "source": [
    "l=[2,3,6]\n",
    "r=1\n",
    "for i in l:\n",
    "    r=r*i\n",
    "print(r)"
   ]
  },
  {
   "cell_type": "markdown",
   "id": "787c29f4",
   "metadata": {},
   "source": [
    "# Q2"
   ]
  },
  {
   "cell_type": "code",
   "execution_count": 9,
   "id": "20a6b9d7",
   "metadata": {},
   "outputs": [
    {
     "name": "stdout",
     "output_type": "stream",
     "text": [
      "[(2, 1), (1, 2), (2, 3), (4, 4), (2, 5)]\n"
     ]
    }
   ],
   "source": [
    "l=[(2, 5), (1, 2), (4, 4), (2, 3), (2, 1)]\n",
    "l.sort (key=lambda x:x[-1])\n",
    "print (l)"
   ]
  },
  {
   "cell_type": "markdown",
   "id": "ec2b2ccd",
   "metadata": {},
   "source": [
    "\n",
    "# Q3"
   ]
  },
  {
   "cell_type": "code",
   "execution_count": 12,
   "id": "6e346013",
   "metadata": {},
   "outputs": [
    {
     "name": "stdout",
     "output_type": "stream",
     "text": [
      "{'a': 400, 'b': 400, 'c': 300, 'd': 400}\n"
     ]
    }
   ],
   "source": [
    "d1 = {'a': 100, 'b': 200, 'c':300}\n",
    "d2 = {'a': 300, 'b': 200, 'd':400}\n",
    "d={}\n",
    "\n",
    "for k in d1.keys ():\n",
    "    d[k]=d1[k]+d2.get(k,0)\n",
    "for k in d2.keys ():\n",
    "    d[k]=d2[k]+d1.get(k,0)\n",
    "    \n",
    "print (d)"
   ]
  },
  {
   "cell_type": "markdown",
   "id": "bba2ce54",
   "metadata": {},
   "source": [
    "# Q4"
   ]
  },
  {
   "cell_type": "code",
   "execution_count": 13,
   "id": "7310c3ba",
   "metadata": {},
   "outputs": [
    {
     "name": "stdout",
     "output_type": "stream",
     "text": [
      "8\n",
      "{1: 1, 2: 4, 3: 9, 4: 16, 5: 25, 6: 36, 7: 49, 8: 64}\n"
     ]
    }
   ],
   "source": [
    "m=int(input())\n",
    "d={}\n",
    "for i in range (1,m+1):\n",
    "    d[i]=i*i\n",
    "print (d)"
   ]
  },
  {
   "cell_type": "markdown",
   "id": "17863dc5",
   "metadata": {},
   "source": [
    "# Q5"
   ]
  },
  {
   "cell_type": "code",
   "execution_count": 16,
   "id": "5f4eda40",
   "metadata": {},
   "outputs": [
    {
     "name": "stdout",
     "output_type": "stream",
     "text": [
      "[('item3', '24.5'), ('item2', '15.10'), ('item1', '12.20')]\n"
     ]
    }
   ],
   "source": [
    "l=[('item1', '12.20'), ('item2', '15.10'), ('item3', '24.5')]\n",
    "l.sort (key=lambda x:x[-1], reverse=True)\n",
    "print (l)"
   ]
  },
  {
   "cell_type": "code",
   "execution_count": null,
   "id": "5a32c0b7",
   "metadata": {},
   "outputs": [],
   "source": []
  }
 ],
 "metadata": {
  "kernelspec": {
   "display_name": "Python 3 (ipykernel)",
   "language": "python",
   "name": "python3"
  },
  "language_info": {
   "codemirror_mode": {
    "name": "ipython",
    "version": 3
   },
   "file_extension": ".py",
   "mimetype": "text/x-python",
   "name": "python",
   "nbconvert_exporter": "python",
   "pygments_lexer": "ipython3",
   "version": "3.9.12"
  }
 },
 "nbformat": 4,
 "nbformat_minor": 5
}
